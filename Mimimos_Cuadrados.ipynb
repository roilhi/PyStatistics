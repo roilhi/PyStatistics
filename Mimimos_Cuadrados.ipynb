{
  "cells": [
    {
      "cell_type": "markdown",
      "metadata": {
        "id": "Qs7_pWWa2fR-"
      },
      "source": [
        "## Estadística simple"
      ]
    },
    {
      "cell_type": "markdown",
      "metadata": {
        "id": "qtM4vOCo2fSD"
      },
      "source": [
        "###### Escriba una función que reciba una secuencia de datos y los almace en archivo que se llame data-aaaa-mm-dd-time-hh:mm:ss.txt "
      ]
    },
    {
      "cell_type": "markdown",
      "metadata": {
        "id": "cWzcTQP42fSF"
      },
      "source": [
        "Una manera de introducir la fecha y la hora es con la siguiente biblioteca"
      ]
    },
    {
      "cell_type": "code",
      "execution_count": 1,
      "metadata": {
        "id": "BWje43zr2fSG"
      },
      "outputs": [],
      "source": [
        "from datetime import datetime\n",
        "now = datetime.now()"
      ]
    },
    {
      "cell_type": "code",
      "execution_count": 2,
      "metadata": {
        "colab": {
          "base_uri": "https://localhost:8080/"
        },
        "id": "QQ6px0162fSH",
        "outputId": "2dd07985-dd16-438e-eb5d-edc99c8e8fc6"
      },
      "outputs": [
        {
          "name": "stdout",
          "output_type": "stream",
          "text": [
            "The year is  2021\n",
            "The  month is  11\n",
            "The  day is  13\n",
            "The hour is  19\n",
            "The minute is  10\n",
            "The second is  4\n",
            "The microsecond is  158523\n"
          ]
        }
      ],
      "source": [
        "print(\"The year is \", now.year)\n",
        "print(\"The  month is \", now.month)\n",
        "print(\"The  day is \",now.day)\n",
        "print(\"The hour is \", now.hour)\n",
        "print(\"The minute is \", now.minute)\n",
        "print(\"The second is \", now.second)\n",
        "print(\"The microsecond is \",now.microsecond)"
      ]
    },
    {
      "cell_type": "code",
      "execution_count": 3,
      "metadata": {
        "colab": {
          "base_uri": "https://localhost:8080/"
        },
        "id": "s9Nna5cs2fSI",
        "outputId": "da6c620a-dd68-4efd-e7e4-dcdc762ee04e"
      },
      "outputs": [],
      "source": [
        "import time\n",
        "time_string = time.strftime(\"%Y-%m-%d-%H%M%S\")\n",
        "#print(\"data-\" + time_string)\n",
        "file_name = \"data-\"+time_string+\".txt\"\n",
        "#print(type(str(now.date())))\n",
        "#print(now.time())"
      ]
    },
    {
      "cell_type": "code",
      "execution_count": 4,
      "metadata": {},
      "outputs": [
        {
          "name": "stdout",
          "output_type": "stream",
          "text": [
            "\n",
            "\n",
            "Lista de datos a escribir en el archivo:  ['4', '5', '6.7', '8', '9', '9.5']\n"
          ]
        }
      ],
      "source": [
        "input_str = input('Ingrese una lista de datos enteros separados por un espacio')\n",
        "print(\"\\n\")\n",
        "user_list = input_str.split()\n",
        "print('Lista de datos a escribir en el archivo: ', user_list)"
      ]
    },
    {
      "cell_type": "code",
      "execution_count": 5,
      "metadata": {
        "colab": {
          "base_uri": "https://localhost:8080/",
          "height": 180
        },
        "id": "TVYNEaWM2fSJ",
        "outputId": "dc6d6c40-c793-458f-dbc6-fbe58378845a"
      },
      "outputs": [],
      "source": [
        "with open(file_name,'w') as f:\n",
        "    f.write(','.join(user_list))"
      ]
    },
    {
      "cell_type": "markdown",
      "metadata": {
        "id": "CkqHC-lx2fSN"
      },
      "source": [
        "###### Escriba una función `average()` calcule la media de una serie de datos. \n",
        "\n",
        "Recordemos que la media se define como: $\\overline{y} = \\dfrac{ \\sum_{i=0}^n y_i}{n}$"
      ]
    },
    {
      "cell_type": "code",
      "execution_count": 6,
      "metadata": {
        "id": "GRLRdZpp2fSN"
      },
      "outputs": [],
      "source": [
        "import numpy as np"
      ]
    },
    {
      "cell_type": "code",
      "execution_count": 7,
      "metadata": {
        "id": "WvFhVG892fSO"
      },
      "outputs": [],
      "source": [
        "datos = np.array([10, 10, 10, 9, 10, 10, 10, 10, 9, 9])"
      ]
    },
    {
      "cell_type": "code",
      "execution_count": 8,
      "metadata": {
        "id": "3HSg_-KB2fSP"
      },
      "outputs": [],
      "source": [
        "def average(data):\n",
        "    \n",
        "    suma = 0\n",
        "    \n",
        "    for i in data:\n",
        "        suma += i\n",
        "    \n",
        "    promedio = suma/len(data)\n",
        "    \n",
        "    return promedio       "
      ]
    },
    {
      "cell_type": "code",
      "execution_count": 9,
      "metadata": {
        "colab": {
          "base_uri": "https://localhost:8080/"
        },
        "id": "ZgvtDSCx2fSQ",
        "outputId": "8cb08ffe-2605-4c51-ef88-a8a562af1772"
      },
      "outputs": [
        {
          "data": {
            "text/plain": [
              "9.7"
            ]
          },
          "execution_count": 9,
          "metadata": {},
          "output_type": "execute_result"
        }
      ],
      "source": [
        "average(datos)"
      ]
    },
    {
      "cell_type": "markdown",
      "metadata": {
        "id": "wBSJFMeA2fSQ"
      },
      "source": [
        "###### Escriba una función `standard_deviation()` que calcule la desviación estándar de una serie de datos. \n",
        "\n",
        "La desviación estándar se define: $S_y = \\sqrt{\\dfrac{\\sum_{i=0}^n(y_i - \\overline{y})^2}{n-1}}$"
      ]
    },
    {
      "cell_type": "code",
      "execution_count": 10,
      "metadata": {
        "id": "rXZpmC_72fSR"
      },
      "outputs": [],
      "source": [
        "def standard_deviation(data):\n",
        "    \n",
        "    promedio = average(data)\n",
        "    suma = 0\n",
        "    \n",
        "    for i in data:\n",
        "        suma += (i - promedio)**2\n",
        "    \n",
        "    aux = (suma)/(len(data) - 1)\n",
        "    estandar = np.sqrt(aux)\n",
        "    \n",
        "    return estandar\n",
        "    "
      ]
    },
    {
      "cell_type": "code",
      "execution_count": 11,
      "metadata": {
        "colab": {
          "base_uri": "https://localhost:8080/"
        },
        "id": "yqE04g642fSS",
        "outputId": "5756bdba-1d5a-448b-dfa0-fefe2c6c272b"
      },
      "outputs": [
        {
          "data": {
            "text/plain": [
              "0.48304589153964794"
            ]
          },
          "execution_count": 11,
          "metadata": {},
          "output_type": "execute_result"
        }
      ],
      "source": [
        "standard_deviation(datos)"
      ]
    },
    {
      "cell_type": "markdown",
      "metadata": {
        "id": "wKjh7lB52fSS"
      },
      "source": [
        "###### Defina una función que se llame `variance()` que calcule la varianza a parti de la de desviación estándar.\n",
        "\n",
        "$\\sigma = S_y^2$"
      ]
    },
    {
      "cell_type": "code",
      "execution_count": 12,
      "metadata": {
        "id": "w27bfril2fST"
      },
      "outputs": [],
      "source": [
        "def variance(data):\n",
        "  sd = standard_deviation(data)\n",
        "  return sd**2"
      ]
    },
    {
      "cell_type": "code",
      "execution_count": 13,
      "metadata": {
        "colab": {
          "base_uri": "https://localhost:8080/"
        },
        "id": "ggqgAOrAvnVC",
        "outputId": "f4cbe830-2b67-4239-d1f3-d9030404ad7a"
      },
      "outputs": [
        {
          "data": {
            "text/plain": [
              "0.23333333333333334"
            ]
          },
          "execution_count": 13,
          "metadata": {},
          "output_type": "execute_result"
        }
      ],
      "source": [
        "variance(datos)"
      ]
    },
    {
      "cell_type": "markdown",
      "metadata": {
        "id": "MPoo3Gqy2fST"
      },
      "source": [
        "###### Escriba una función que se llame `coefficient_of_variation()`\n",
        "$c.v = \\dfrac{S_y}{\\overline{y}}100\\%$"
      ]
    },
    {
      "cell_type": "code",
      "execution_count": 14,
      "metadata": {
        "id": "eHtA83pK2fSV"
      },
      "outputs": [],
      "source": [
        "def coefficient_of_variation(data):\n",
        "  sd = standard_deviation(data)\n",
        "  av = average(data)\n",
        "  cv = (sd/av)*100\n",
        "  return cv"
      ]
    },
    {
      "cell_type": "code",
      "execution_count": 15,
      "metadata": {
        "colab": {
          "base_uri": "https://localhost:8080/"
        },
        "id": "-zHddv6ev7Hb",
        "outputId": "6d59b218-5254-4af3-e8df-85969afbb972"
      },
      "outputs": [
        {
          "data": {
            "text/plain": [
              "4.979854551955134"
            ]
          },
          "execution_count": 15,
          "metadata": {},
          "output_type": "execute_result"
        }
      ],
      "source": [
        "coefficient_of_variation(datos)"
      ]
    },
    {
      "cell_type": "markdown",
      "metadata": {
        "id": "kTnd20rk2fSW"
      },
      "source": [
        "###### Escriba una función que se llame `statistical_data()`, que abra un archivo  de datos.txt. En la segunda columna de poner el valor $y_i - \\overline{y}$  para cada $i$ y al final del archivo de estar el promedio y la desviación estándar."
      ]
    },
    {
      "cell_type": "code",
      "execution_count": 35,
      "metadata": {
        "id": "TWSGrvk42fSW"
      },
      "outputs": [],
      "source": [
        "def statistical_data(data):\n",
        "    av = average(data)\n",
        "    sd = standard_deviation(data)\n",
        "    difR = []\n",
        "    for element in data:\n",
        "        difR.append(element-av)\n",
        "    myFileName = \"dataStat.txt\";\n",
        "    with open(myFileName,'w') as myFile:\n",
        "        myFile.write(\"yi\" + \" \" + \"yi-prom(y)\"+ \"\\n\")\n",
        "        for item in range(len(data)):\n",
        "            myFile.write(str(data[item])+\" \"+ str(difR[item]) + \"\\n\")\n",
        "        myFile.write(\"Promedio=\" + \" \" + str(av) + \"\\n\")\n",
        "        myFile.write(\"Desv Estandar\" + \" \" + str(sd))       "
      ]
    },
    {
      "cell_type": "code",
      "execution_count": 36,
      "metadata": {},
      "outputs": [],
      "source": [
        "statistical_data([2,3,4,5,6,7])"
      ]
    },
    {
      "cell_type": "markdown",
      "metadata": {
        "id": "hVbtQGFd2fSX"
      },
      "source": [
        "###### Usando las funciones anteriores y los siguientes datos los datos los siguientes datos: \n",
        "\n",
        "8.8, 9.4, 10.0, 9.8, 10.1, 9.5, 9.8, 10.1, 9.2, 10.4, 7.9, 9.5, 8.9, 9.5, 9.6, 9.4, 10.0, 11.3, 9.4, 10.4, 9.8, 8.8, 10.6, 10.2, 8.9, 28.65, 26.55, 26.65, 27.65, 27.35, 28.35, 26.85, 28.65, 29.65, 27.85, 27.05, 28.25, 28.35, 26.75, 27.65, 28.45, 28.65, 28.45, 31.65, 26.35, 27.75, 29.25, 27.65, 28.65, 27.65, 28.55, 27.55, 27.25.\n",
        "\n",
        "Determine:\n",
        "* La media. \n",
        "* La desviación estándar. \n",
        "* La varianza. \n",
        "* El coeficiente de variación. \n",
        "* el intervalo de confianza del 90% para la media.  \n",
        "* Construya un histograma.\n"
      ]
    },
    {
      "cell_type": "code",
      "execution_count": 37,
      "metadata": {
        "id": "D18a_8icbXME"
      },
      "outputs": [],
      "source": [
        "myData = np.array([8.8, 9.4, 10.0, 9.8, 10.1, 9.5, 9.8, 10.1, 9.2, 10.4, 7.9, 9.5, 8.9, 9.5, 9.6, 9.4, 10.0, 11.3, 9.4, 10.4, 9.8, 8.8, 10.6, 10.2, 8.9, 28.65, 26.55, 26.65, 27.65, 27.35, 28.35, 26.85, 28.65, 29.65, 27.85, 27.05, 28.25, 28.35, 26.75, 27.65, 28.45, 28.65, 28.45, 31.65, 26.35, 27.75, 29.25, 27.65, 28.65, 27.65, 28.55, 27.55, 27.25])"
      ]
    },
    {
      "cell_type": "code",
      "execution_count": 38,
      "metadata": {
        "colab": {
          "base_uri": "https://localhost:8080/"
        },
        "id": "CgApqs7MbXW8",
        "outputId": "4f282d1d-322a-4d81-c47b-0b9c6949b28d"
      },
      "outputs": [
        {
          "name": "stdout",
          "output_type": "stream",
          "text": [
            "El promedio de los datos ingresados es 19.347169811320754\n"
          ]
        }
      ],
      "source": [
        "mediaMyData = average(myData)\n",
        "print(f'El promedio de los datos ingresados es {mediaMyData}')"
      ]
    },
    {
      "cell_type": "code",
      "execution_count": 39,
      "metadata": {
        "colab": {
          "base_uri": "https://localhost:8080/"
        },
        "id": "dYcbjj5mwzXc",
        "outputId": "6073a927-ef6d-451f-85e5-5aa556730a35"
      },
      "outputs": [
        {
          "name": "stdout",
          "output_type": "stream",
          "text": [
            "La desviación estándar de los datos ingresados es 9.294758733443127\n"
          ]
        }
      ],
      "source": [
        "sdMyData = standard_deviation(myData)\n",
        "print(f'La desviación estándar de los datos ingresados es {sdMyData}')"
      ]
    },
    {
      "cell_type": "code",
      "execution_count": 40,
      "metadata": {
        "colab": {
          "base_uri": "https://localhost:8080/"
        },
        "id": "lAK6mYBiw--X",
        "outputId": "12a85be1-8443-4552-a189-1e0e3c543837"
      },
      "outputs": [
        {
          "name": "stdout",
          "output_type": "stream",
          "text": [
            "La varianza de los datos ingresados es 86.39253991291727\n"
          ]
        }
      ],
      "source": [
        "VARMyData = variance(myData)\n",
        "print(f'La varianza de los datos ingresados es {VARMyData}')"
      ]
    },
    {
      "cell_type": "code",
      "execution_count": 41,
      "metadata": {
        "colab": {
          "base_uri": "https://localhost:8080/"
        },
        "id": "HBo5DSJGxK8S",
        "outputId": "42751998-3a11-4a06-b86b-39c593c699e3"
      },
      "outputs": [
        {
          "name": "stdout",
          "output_type": "stream",
          "text": [
            "El coeficiente de variación de los datos ingresados es 48.0419556146368\n"
          ]
        }
      ],
      "source": [
        "CoVarMyData = coefficient_of_variation(myData)\n",
        "print(f'El coeficiente de variación de los datos ingresados es {CoVarMyData}')"
      ]
    },
    {
      "cell_type": "code",
      "execution_count": 42,
      "metadata": {},
      "outputs": [],
      "source": [
        "def confidence_interval(input_data):\n",
        "    sigma  = standard_deviation(input_data)\n",
        "    mean = average(input_data)\n",
        "    n = len(input_data)\n",
        "    zValue = 1.645 # para el 90% de confianza\n",
        "    xm = mean - (zValue*(sigma/np.sqrt(n)))\n",
        "    xp = mean + (zValue*(sigma/np.sqrt(n)))\n",
        "    return xp, xm"
      ]
    },
    {
      "cell_type": "code",
      "execution_count": 43,
      "metadata": {},
      "outputs": [
        {
          "name": "stdout",
          "output_type": "stream",
          "text": [
            "Los intervalos de confianza de los datos para un 90% son 21.447396092111827, 17.24694353052968\n"
          ]
        }
      ],
      "source": [
        "xp, xm = confidence_interval(myData)\n",
        "print(f'Los intervalos de confianza de los datos para un 90% son {xp}, {xm}')"
      ]
    },
    {
      "cell_type": "code",
      "execution_count": 47,
      "metadata": {},
      "outputs": [
        {
          "data": {
            "image/png": "[encoded data removed]",
            "text/plain": [
              "<Figure size 432x288 with 1 Axes>"
            ]
          },
          "metadata": {
            "needs_background": "light"
          },
          "output_type": "display_data"
        }
      ],
      "source": [
        "import matplotlib.pyplot as plt\n",
        "plt.hist(myData,bins=13)\n",
        "plt.grid()\n",
        "plt.title('Histograma con los datos generados')\n",
        "plt.show()"
      ]
    },
    {
      "cell_type": "markdown",
      "metadata": {
        "id": "OALl0JK_2fSY"
      },
      "source": [
        "## Regresión Lineal"
      ]
    },
    {
      "cell_type": "markdown",
      "metadata": {
        "id": "mgVU47Zb2fSY"
      },
      "source": [
        "El ejemplo más simple de una aproximación por mínimos cuadrados es ajutar una línea recta a un conjunto de observaciones definidas por puntos: $(x_1, y_1), (x_2, y_2),\\dots, (x_n, y_n)$. La expresión matemática para la línea recta es: $$y = a_0 + a_1x + e$$\n",
        "\n",
        "Donde $a_0$ y $a_1$ son coeficientes que representan la intersección con el eje y y la pendiente, respectivamente, $e$ es el error, o diferencia, entre el modelo y las observaciones, el cual se representa al reordenar como: $$e = y - a_0 - a_1x$$\n",
        "\n",
        "Así, el error o residuo es la discrepancia entre el valor verdadero de y y el valor aproximado, $a_0 + a_1x$, que predijo la ecuación lineal.\n",
        "\n",
        "Se recomendienda al lector leer las notas *Regresión-lineal.pdf* ponga principal atención en el ejemplo 17.1, para tener una mejor idea del método."
      ]
    },
    {
      "cell_type": "markdown",
      "metadata": {
        "id": "0KqRvZMB2fSZ"
      },
      "source": [
        "###  Ajuste de una línea recta por mínimos cuadrados "
      ]
    },
    {
      "cell_type": "markdown",
      "metadata": {
        "id": "1tO83dii2fSZ"
      },
      "source": [
        "Para determinar los valores de $a_0$ y $a_1$ se hace mediante las ecuaciones normales en forma simultanea:\n",
        "\n",
        "\n",
        "$$a_1 = \\dfrac{n\\sum x_i y_i - \\sum x_i \\sum y_i }{n\\sum x_i^2 - \\left(\\sum x_i \\right)^2}$$\n",
        "\n",
        "$$a_0 = \\overline{y} - a_1\\overline{x}$$"
      ]
    },
    {
      "cell_type": "markdown",
      "metadata": {
        "id": "MfJ-0COL2fSZ"
      },
      "source": [
        "###### Defina una función `coeffs()` que calcule los coeficientes $a_1$ y $a_0$.  "
      ]
    },
    {
      "cell_type": "code",
      "execution_count": 48,
      "metadata": {
        "id": "YtHhQPP62fSZ"
      },
      "outputs": [],
      "source": [
        "def coeffs(data_x,data_y):\n",
        "  if len(data_x)!=len(data_y):\n",
        "    print(\"Error, la longitud de los datos x e y debe ser la misma\")\n",
        "  # Longitud del vector x o y (número de puntos)\n",
        "  n = len(data_x)\n",
        "  # Promedio de los datos\n",
        "  x_bar = average(data_x)\n",
        "  y_bar = average(data_y)\n",
        "  # Sumatorias\n",
        "  Sx = np.sum(data_x)\n",
        "  Sy = np.sum(data_y)\n",
        "  Sxx = np.sum(data_x**2)\n",
        "  Syy = np.sum(data_y**2)\n",
        "  Sxy = np.sum(data_x*data_y)\n",
        "  # Cálculo de coeficientes\n",
        "  a1 = (n*Sxy-(Sx*Sy))/(n*Sxx-(Sx**2))\n",
        "  a0 = y_bar - a1*(x_bar)\n",
        "  return a0,a1"
      ]
    },
    {
      "cell_type": "markdown",
      "metadata": {
        "id": "YOx0YEWc2fSa"
      },
      "source": [
        "A la siguiente expresión se le conoce como *cociente de correlación* En un ajuste perfecto, r = 1, significa que la línea explica el 100% de la variabilidad de los datos. Si r = 0,  el ajuste no representa alguna mejora:\n",
        "\n",
        "$$r = \\dfrac{n\\sum x_i y_i - \\sum x_i \\sum y_i }{\\sqrt{n\\sum x_i^2 - \\left(\\sum x_i \\right)^2}\\sqrt{n\\sum y_i^2 - \\left(\\sum y_i \\right)^2}}$$\n",
        " "
      ]
    },
    {
      "cell_type": "markdown",
      "metadata": {
        "id": "2J7CXk-d2fSa"
      },
      "source": [
        "###### Defina una función `correlation()` que calcule el coeficiente de correlación para un conjunto de datos. "
      ]
    },
    {
      "cell_type": "code",
      "execution_count": 49,
      "metadata": {
        "id": "shu8MJly2fSb"
      },
      "outputs": [],
      "source": [
        "def correlation(data_x, data_y):\n",
        "    if len(data_x)!=len(data_y):\n",
        "      print(\"Error, la longitud de los datos x e y debe ser la misma\")\n",
        "    # Longitud del vector x o y (número de puntos)\n",
        "    n = len(data_x)\n",
        "    Sx = np.sum(data_x)\n",
        "    Sy = np.sum(data_y)\n",
        "    Sxy = np.sum(data_x*data_y)\n",
        "    Sxx = np.sum(data_x**2)\n",
        "    Syy = np.sum(data_y**2)\n",
        "    num = n*Sxy-(Sx*Sy)\n",
        "    denom = np.sqrt(n*Sxx-(Sx**2))*np.sqrt(n*Syy-(Sy**2))\n",
        "    return num/denom"
      ]
    },
    {
      "cell_type": "markdown",
      "metadata": {
        "id": "2XwujWIJ2fSb"
      },
      "source": [
        "#### Escriba una función que se llame `least_square()`, que reciba el nombre de un archivo donde tomará los datos, calule la aproximación lineal, el coeficiente de correlación y grafique los datos y la aproximación."
      ]
    },
    {
      "cell_type": "code",
      "execution_count": 106,
      "metadata": {
        "id": "FiIB-4YgSRYy"
      },
      "outputs": [],
      "source": [
        "import pandas as pd\n",
        "def least_square(fileName):\n",
        "    dataSet = pd.read_csv(fileName)\n",
        "    xData = dataSet['x']\n",
        "    yData = dataSet['y']\n",
        "    a0,a1 = coeffs(xData,yData)\n",
        "    r = correlation(xData,yData)\n",
        "    xx = np.linspace(0,100,num=100)\n",
        "    fx = a0+a1*xx\n",
        "    labelLine = \"y=\" + str(np.round(a0,2))+\"+\"+str(np.round(a1,2))+\"x\"\n",
        "    labelCorr = \"r=\" + str(np.round(r,4))\n",
        "    plt.plot(xx,fx,'r-',zorder=2,label=labelLine)\n",
        "    plt.scatter(xData,yData,marker='*',zorder=1,label='Datos')\n",
        "    plt.title('Regresión lineal con el archivo de datos')\n",
        "    plt.text(80,2,labelCorr)\n",
        "    plt.legend()\n",
        "    plt.grid()\n",
        "    plt.show()"
      ]
    },
    {
      "cell_type": "code",
      "execution_count": 107,
      "metadata": {},
      "outputs": [
        {
          "data": {
            "image/png": "[encoded data removed]",
            "text/plain": [
              "<Figure size 432x288 with 1 Axes>"
            ]
          },
          "metadata": {
            "needs_background": "light"
          },
          "output_type": "display_data"
        }
      ],
      "source": [
        "fileName = 'LinearRegressionDataset.csv'\n",
        "least_square(fileName)"
      ]
    },
    {
      "cell_type": "markdown",
      "metadata": {
        "id": "RWwwrgGN2fSc"
      },
      "source": [
        "Después de una tormenta, se vigila la concentración de la bacteria E. coli en un área de natación:\n",
        "\n",
        "|   t(hrs)   |  4 |  8 | 12 | 16 | 20 | 24 |\n",
        "|------------|----|----|----|----|----|----|\n",
        "|c(CFU/100mL)|1590|1320|1000| 900| 560| 560|\n",
        "\n",
        "\n",
        "El tiempo se mide en horas transcurridas después de finalizar la tormenta, y la unidad CFU es una “unidad de formación de colonia”. Use los datos y la regresión por minímos cuadrados para estimar\n",
        "\n",
        "* La concentración al final de la tormenta (t = 0).\n",
        "* El tiempo en el que la concentración alcanzará 200 CFU / 100 mL. Observe que la elección del modelo debe ser consistente con el hecho de que las concentraciones negativas son imposibles y de que la concentración de bacterias siempre disminuye con el tiempo."
      ]
    },
    {
      "cell_type": "code",
      "execution_count": 127,
      "metadata": {},
      "outputs": [],
      "source": [
        "t = []\n",
        "c = np.array([1590,1320,1000,900,560,560])\n",
        "for i in range(1,7):\n",
        "    t.append(4*i)\n",
        "a0,a1 = coeffs(np.array(t),c)"
      ]
    },
    {
      "cell_type": "markdown",
      "metadata": {},
      "source": [
        "Para un tiempo $t=0$, considerando el modelo $f(t)=a_0+a_1t$, se tiene que\n",
        "$f(0) = a_0+a_1t$, $f(0) = a_0 +a_1(0) = a_0$"
      ]
    },
    {
      "cell_type": "code",
      "execution_count": 128,
      "metadata": {},
      "outputs": [
        {
          "name": "stdout",
          "output_type": "stream",
          "text": [
            "El valor de concentración para t=0 es igual a 1741.3333333333335 (CFU/100mL)\n"
          ]
        }
      ],
      "source": [
        "print(f'El valor de concentración para t=0 es igual a {a0} (CFU/100mL)')"
      ]
    },
    {
      "cell_type": "markdown",
      "metadata": {},
      "source": [
        "Para alcanzar un nivel de concentración 200 CFU/100 mL, se tiene que $f(t)=200$"
      ]
    },
    {
      "cell_type": "markdown",
      "metadata": {},
      "source": [
        "$$200 = a_0+a_1t$$\n",
        "$$t=\\frac{200-a_0}{a_1}$$"
      ]
    },
    {
      "cell_type": "code",
      "execution_count": 129,
      "metadata": {},
      "outputs": [
        {
          "name": "stdout",
          "output_type": "stream",
          "text": [
            "El valor de concentración de 200 CFU/100mL se alcanza cuando t= 28.656927844178842\n"
          ]
        }
      ],
      "source": [
        "print(f'El valor de concentración de 200 CFU/100mL se alcanza cuando t= {(200-a0)/a1}')"
      ]
    },
    {
      "cell_type": "code",
      "execution_count": 163,
      "metadata": {},
      "outputs": [
        {
          "data": {
            "image/png": "[encoded data removed]",
            "text/plain": [
              "<Figure size 432x288 with 1 Axes>"
            ]
          },
          "metadata": {
            "needs_background": "light"
          },
          "output_type": "display_data"
        }
      ],
      "source": [
        "x = np.linspace(0,30,num=100)\n",
        "y = a0+a1*x\n",
        "t0 = a0\n",
        "t200 = (200-a0)/a1\n",
        "plt.figure()\n",
        "plt.plot(x,y,'r-',label='Regresión')\n",
        "plt.scatter(np.array(t),np.array(c),label='Datos')\n",
        "plt.plot(0,t0,'g',marker='*',markersize=15,label='$f(t_0$)')\n",
        "plt.plot(t200,200,'m',marker='*',markersize=15,label='$t_{200}$')\n",
        "plt.legend()\n",
        "plt.grid()\n",
        "plt.show()\n"
      ]
    },
    {
      "cell_type": "code",
      "execution_count": null,
      "metadata": {},
      "outputs": [],
      "source": []
    }
  ],
  "metadata": {
    "colab": {
      "name": "Mimimos-Cuadrados.ipynb",
      "provenance": []
    },
    "kernelspec": {
      "display_name": "Python 3",
      "language": "python",
      "name": "python3"
    },
    "language_info": {
      "codemirror_mode": {
        "name": "ipython",
        "version": 3
      },
      "file_extension": ".py",
      "mimetype": "text/x-python",
      "name": "python",
      "nbconvert_exporter": "python",
      "pygments_lexer": "ipython3",
      "version": "3.9.7"
    }
  },
  "nbformat": 4,
  "nbformat_minor": 0
}
